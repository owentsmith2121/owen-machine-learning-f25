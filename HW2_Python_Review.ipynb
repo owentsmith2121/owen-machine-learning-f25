{
 "cells": [
  {
   "cell_type": "code",
   "execution_count": null,
   "id": "b7c2d158",
   "metadata": {
    "vscode": {
     "languageId": "plaintext"
    }
   },
   "outputs": [],
   "source": [
    "### Assignment 00 ###\n",
    "from math import sqrt"
   ]
  },
  {
   "cell_type": "code",
   "execution_count": null,
   "id": "b00e2117",
   "metadata": {
    "vscode": {
     "languageId": "plaintext"
    }
   },
   "outputs": [],
   "source": [
    "# Task 01\n",
    "\n",
    "foo = 3\n",
    "bar = 3.14\n",
    "myname = \"Owen\"\n",
    "\n",
    "print(f\"The value of foo is {foo} and its type is {type(foo)}\")\n",
    "print(f\"The value of bar is {bar} and its type is {type(bar)}\")\n",
    "print(f\"The value of myname is {myname} and its type is {type(myname)}\")"
   ]
  },
  {
   "cell_type": "code",
   "execution_count": null,
   "id": "1cf32d76",
   "metadata": {
    "vscode": {
     "languageId": "plaintext"
    }
   },
   "outputs": [],
   "source": [
    "# Task 02\n",
    "\n",
    "# Part a\n",
    "if foo < bar:\n",
    "    print(f\"foo {foo} is smaller than bar {bar}\")\n",
    "else:\n",
    "    print(f\"foo {foo} is NOT smaller than bar {bar}\")\n",
    "\n",
    "# Part b\n",
    "for i in range(1,11):\n",
    "    print(f\"Number: {i} - Squared value: {i**2}\")\n",
    "\n",
    "# Part c\n",
    "for i in range(1,11):\n",
    "    if i == 7:\n",
    "        continue\n",
    "    print(f\"Number: {i} - Squared value: {i**2}\")"
   ]
  },
  {
   "cell_type": "code",
   "execution_count": null,
   "id": "22871408",
   "metadata": {
    "vscode": {
     "languageId": "plaintext"
    }
   },
   "outputs": [],
   "source": [
    "# Task 03\n",
    "\n",
    "def isPrime(num: int) -> bool:\n",
    "    for i in range(2, int(sqrt(num)) + 1):\n",
    "        if num % i == 0:\n",
    "            return False\n",
    "    return True\n",
    "\n",
    "test = [2, 3, 4, 5, 6, 7, 8, 9, 10, 11]\n",
    "\n",
    "for n in test:\n",
    "    print(f\"Is the number {n} prime?: {isPrime(n)}\")"
   ]
  },
  {
   "cell_type": "code",
   "execution_count": null,
   "id": "f8dcb08f",
   "metadata": {
    "vscode": {
     "languageId": "plaintext"
    }
   },
   "outputs": [],
   "source": [
    "# Task 04\n",
    "\n",
    "class Vertex:\n",
    "    def __init__(self, x_coordinate, y_coordinate):\n",
    "        self.x = x_coordinate\n",
    "        self.y = y_coordinate\n",
    "\n",
    "def Distance(v1: Vertex, v2: Vertex):\n",
    "    return sqrt((v2.x - v1.x) ** 2 + (v2.y - v1.y) ** 2)\n",
    "\n",
    "class Triangle:\n",
    "\n",
    "    def __init__(self, v1: Vertex, v2: Vertex, v3: Vertex):\n",
    "\n",
    "        self.v1 = v1\n",
    "        self.v2 = v2\n",
    "        self.v3 = v3\n",
    "\n",
    "    def area(self) -> float:\n",
    "\n",
    "        a = Distance(self.v1, self.v2)\n",
    "        b = Distance(self.v2, self.v3)\n",
    "        c = Distance(self.v3, self.v1)\n",
    "        s = (a + b + c) / 2\n",
    "        return sqrt(s * (s - a) * (s - b) * (s - c))\n",
    "\n",
    "# Test for Task 04\n",
    "v1 = Vertex(11, 2)\n",
    "v2 = Vertex(3, 8)\n",
    "v3 = Vertex(17, 3)\n",
    "\n",
    "triangle = Triangle(v1, v2, v3)\n",
    "print(f\"Area of the triangle is: {triangle.area()}\")"
   ]
  }
 ],
 "metadata": {
  "language_info": {
   "name": "python"
  }
 },
 "nbformat": 4,
 "nbformat_minor": 5
}
