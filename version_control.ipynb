{
 "cells": [
  {
   "cell_type": "markdown",
   "id": "1ec3027f-13c3-4caf-aa01-7244a65e368b",
   "metadata": {},
   "source": [
    "## **Version Control - git and Github**\n",
    "\n",
    "In this lecture, we will learn about version control. We will go through a couple of principles of git and Github. We recommend to use proper version control for your class materials, assignment, and group projects. \n"
   ]
  },
  {
   "cell_type": "markdown",
   "id": "8aa1efc2",
   "metadata": {},
   "source": [
    "#### **Why use version control?**\n",
    "\n"
   ]
  },
  {
   "cell_type": "markdown",
   "id": "2e002fca",
   "metadata": {},
   "source": [
    "<p align=\"center\">\n",
    "<img src=\"image_1.png\" width=\"150\">\n",
    "</p>"
   ]
  },
  {
   "cell_type": "markdown",
   "id": "8a776db3",
   "metadata": {},
   "source": [
    "1. **Track changes**\n",
    "\n",
    "\n",
    "Instead of keeping compies of multiple states of files like below images, version control can record every updates. You can see \"what changed, when\" and \"by whom\". You also can undo mistakes by going back to previous version at any time.  \n",
    "\n",
    "\n",
    "2. **Collaboration without chaos**\n",
    "\n",
    "Multiple people can work on the same project at the same time without overwritting each other's work. Version control easily merge each contributions and conflicts can be resolved systematically. Even a solo project is a form of collaboration between you, you in the past, and you in the future.\n",
    "\n",
    "\n",
    "3. **Create alternative status**\n",
    "\n",
    "Assume that you want to try new ideas on the main working code, but you are not whether it works or is worth it. \"Branches\" let you create rooms to simulate or develop codes without risking the main project. You can merge it if that works. If not, you just discard that branch. \n",
    "\n",
    "\n",
    "4. **Extend your working environment**\n",
    "\n",
    "\n",
    "You store your work on your local computer as well as on the remote server. The same code can be assessed and edited no matther where you are (ex. home laptop, classroom computer, library computer). Your projects stay synchrozied and up to date accorss devices. Plus don't need to worry if your computer breaks.\n"
   ]
  },
  {
   "cell_type": "markdown",
   "id": "de1f4734",
   "metadata": {},
   "source": [
    "#### **git vs Github**\n",
    "* git \n",
    "    * Git is a \"tool\" that keeps track of any changes in files, versions, branches and history.\n",
    "    * The folder managed by git is called \"repository\" \n",
    "    * a.k.a. source stalker \n",
    "\n",
    "\n",
    "\n",
    "* Github\n",
    "    * Github is a online \"platform\" that hosts git repositoties remotely. \n",
    "    * easy to share, collaborate and back up the projects (like Google Drive, iCloud)"
   ]
  },
  {
   "cell_type": "markdown",
   "id": "8fa1d82f",
   "metadata": {},
   "source": [
    "#### **Git+Github tutorial**\n",
    "   \n"
   ]
  },
  {
   "cell_type": "markdown",
   "id": "ba7eff19-0ab8-4f80-b356-fc71ee08f086",
   "metadata": {},
   "source": [
    "**installation**\n",
    "\n",
    " Install git on your laptop (follow the instruction of your operating system): \n",
    " \n",
    " https://git-scm.com/book/en/v2/Getting-Started-Installing-Git\n",
    "\n",
    " To check your installation, type it in your terminal.\n",
    " \n",
    "```bash\n",
    "$ git\n",
    "\n",
    "```"
   ]
  },
  {
   "cell_type": "markdown",
   "id": "23479829-6451-4c0c-90d2-14ec92ec8e59",
   "metadata": {},
   "source": [
    "**Create remote repository**\n",
    "\n",
    "Let's make new repositoty (NewProject) under your Github account.\n",
    "<p align=\"center\">\n",
    "<img src=\"image_2.png\" width=\"700\">\n",
    "</p>"
   ]
  },
  {
   "cell_type": "markdown",
   "id": "2fd6707d",
   "metadata": {},
   "source": [
    "**Set local repository**\n",
    "\n",
    "Create a folder for your project. And use \"cd\" and \"mkdir\" command to nevigate to the repo. \n",
    " \n",
    "```bash\n",
    "$ mkdir NewProject\n",
    "$ cd NewProject/\n",
    "```\n",
    "Declare this folder is a git repository. \n",
    "\n",
    "```bash\n",
    "$ git init\n",
    "```\n",
    "Then you can see \".git\" folder in the local repo (shift+cmd+.) All history of sources changes will be recorded in that folder. "
   ]
  },
  {
   "cell_type": "markdown",
   "id": "25f55d21-f066-4c69-a1e4-d1a90ad5c248",
   "metadata": {},
   "source": [
    "**Configures git setting**\n",
    "\n",
    "We need to set up git configuration in local environment (like Login)\n",
    "```bash\n",
    "$ git config user.name \"RKYoon\"\n",
    "$ git config user.email \"yoonr@wabash.edu\"\n",
    "```\n",
    "Recommend to use your correct name and Wabash email address. \n"
   ]
  },
  {
   "cell_type": "markdown",
   "id": "ab3237bc-8118-4ff2-aa72-965dacbadaa1",
   "metadata": {},
   "source": [
    "**Add, commit, push**\n",
    "\n",
    "When new item is launched (or previous item is renewed), \n",
    "* select new item and prepare for the launch\n",
    "* attach a tag having its price, materials, washing instructions etc\n",
    "* supply the selected product to all stores and synchronize so that all store carries the same up-to-date item\n",
    "\n",
    "Same for version control:\n",
    "* add: select the modified or newly created files in the local repo and prepare them to be versioned.\n",
    "* commit: short explanation what changes is made.\n",
    "* push: code update and syncronize "
   ]
  },
  {
   "cell_type": "markdown",
   "id": "39d343cd-677b-44fa-be5c-ce941b7bf7fd",
   "metadata": {},
   "source": [
    "**Add new file to version control**\n",
    "\n",
    "Create a new file (demo.py) in the repo. Then let's add it to version control.\n",
    "\n",
    "```bash\n",
    "$ git add demo.py\n",
    "$ git status\n",
    "```\n",
    "Git is tracking new file, but it hasn't been committed yet. "
   ]
  },
  {
   "cell_type": "markdown",
   "id": "f357f24d-7fb6-4fdd-a995-64fe45807562",
   "metadata": {},
   "source": [
    "**Commit the file**\n",
    "\n",
    "```bash\n",
    "$ git commit -m \"Add: demo.py\"\n",
    "$ git log\n",
    "```\n",
    "(press q if you want to quit the log)\n",
    "\n",
    "\n",
    "We recommend you to write the commit message very clear and structured, especially if you are interested in Tech job!. I used to write \n",
    "* \"Add: xxxxx\"\n",
    "* \"Modify: xxx\"\n",
    "* \"Fix: xxxx\""
   ]
  },
  {
   "cell_type": "markdown",
   "id": "01ac929a-56a9-408a-9e2f-e301f50fc387",
   "metadata": {},
   "source": [
    "**Push local files to Github**\n",
    "\n",
    "```bash\n",
    "$ git branch -M master\n",
    "$ git remote add origin [your git repo address].git\n",
    "$ git push -u origin master\n",
    "```\n",
    "origin: the remote repo’s alias (default name for GitHub repo)\n",
    "-u: set upstream link (so next time just git push / git pull)\n"
   ]
  },
  {
   "cell_type": "markdown",
   "id": "d54cf86b-2c9d-434e-8f47-ca86b477f7e3",
   "metadata": {},
   "source": [
    "**For the first user**\n",
    "\n",
    "You may need to provide credentials to let the Github know that you are the authorized user pusing form your local repo. You can create PW token in Github,  \n",
    "\n",
    "$settings -> developer settings -> personal access tokens -> Tokens(classic) -> generate new token$\n",
    "\n",
    "We recommend to save the token in somewhere cause a token can't be viewed again. \n",
    "\n"
   ]
  },
  {
   "cell_type": "markdown",
   "id": "488e161e-5ced-43d8-a63a-041d6ec98e1f",
   "metadata": {},
   "source": [
    "**Pull**\n",
    "\n",
    "What if you make changes at another place? Then local repository is out of sync with the remote repository. To get the latest version locally, we can pull from the repository. \n",
    "\n",
    "```bash\n",
    "$ git pull\n",
    "```"
   ]
  },
  {
   "cell_type": "markdown",
   "id": "931ed74a-0e20-4669-849c-db670a8cad2b",
   "metadata": {},
   "source": [
    "**Create new branch**\n",
    "\n",
    "We can work on new idea in different branch without chaning main project. Let's make new branch.\n",
    "\n",
    "```bash\n",
    "$ git branch newbranch\n",
    "$ git branch\n",
    "```\n",
    "We have two branches: 'master' and 'newbranch'. The branch with $*$ is the main one. Now, work jobs under the new branch. \n",
    "```bash\n",
    "$ git switch newbranch\n",
    "```\n",
    "If you like new work, then you can merge two branches. \n",
    "```bash\n",
    "$ git switch master\n",
    "$ git merge newbranch\n",
    "$ git push\n",
    "```\n",
    "\n"
   ]
  },
  {
   "cell_type": "markdown",
   "id": "588b1e43-b31f-4635-a34c-c7acea6e4b59",
   "metadata": {},
   "source": [
    "**Clone repository**\n",
    "\n",
    "So far, we push the local repository to Github. Of course we can copy(clone) the exiting repository. Let's clone our class repository. \n",
    "```bash\n",
    "$ git clone https://github.com/cbpmckinney/csc338-f25.git\n",
    "```\n",
    "This creates a local copy of the GitHub repository. We'd recommend you to create your own repository for homework/project so that prevent pushing your work onto class repository.  \n"
   ]
  },
  {
   "cell_type": "code",
   "execution_count": null,
   "id": "0b13fc72",
   "metadata": {},
   "outputs": [],
   "source": []
  }
 ],
 "metadata": {
  "kernelspec": {
   "display_name": "Python [conda env:base] *",
   "language": "python",
   "name": "conda-base-py"
  },
  "language_info": {
   "codemirror_mode": {
    "name": "ipython",
    "version": 3
   },
   "file_extension": ".py",
   "mimetype": "text/x-python",
   "name": "python",
   "nbconvert_exporter": "python",
   "pygments_lexer": "ipython3",
   "version": "3.13.5"
  }
 },
 "nbformat": 4,
 "nbformat_minor": 5
}
